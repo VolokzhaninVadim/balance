{
 "cells": [
  {
   "cell_type": "code",
   "execution_count": 1,
   "id": "084341a9",
   "metadata": {},
   "outputs": [],
   "source": [
    "# Устанавливаем/меняем текущую папку\n",
    "import os\n",
    "os.chdir('/root/jupyterlab/balance')\n",
    "\n",
    "# Импортируем модуль получения данных\n",
    "from src.AlfaScraper import AlfaScraper\n",
    "\n",
    "# Для работы с SQL\n",
    "from sqlalchemy import create_engine\n",
    "# Для работы с Postgre\n",
    "import psycopg2"
   ]
  },
  {
   "cell_type": "code",
   "execution_count": 2,
   "id": "f17a7190",
   "metadata": {},
   "outputs": [],
   "source": [
    "# Получаем переменные окружения\n",
    "PG_HOST = os.environ['PG_HOST']\n",
    "PG_PASSWORD = os.environ['PG_PASSWORD']\n",
    "LOGIN_NAME = os.environ['LOGIN_NAME']\n",
    "ALFA_USER = os.environ['ALFA_USER'] \n",
    "ALFA_PASSWORD = os.environ['ALFA_PASSWORD'] "
   ]
  },
  {
   "cell_type": "code",
   "execution_count": 3,
   "id": "25e15506",
   "metadata": {},
   "outputs": [],
   "source": [
    "# Создаем подключение к pg\n",
    "engine = create_engine(f'postgres://{LOGIN_NAME}:{PG_PASSWORD}@{PG_HOST}:5432/{LOGIN_NAME}')\n",
    "conn = psycopg2.connect(f\"host='{PG_HOST}' dbname='{LOGIN_NAME}' user='{LOGIN_NAME}' password='{PG_PASSWORD}'\")"
   ]
  },
  {
   "cell_type": "code",
   "execution_count": 4,
   "id": "e190e31e",
   "metadata": {},
   "outputs": [],
   "source": [
    "# Создаем объект класса            \n",
    "alfa_scraper = AlfaScraper( \n",
    "    alfa_login = ALFA_USER\n",
    "    ,alfa_password = ALFA_PASSWORD\n",
    "    ,engine = engine\n",
    "    ,conn = conn\n",
    "    ,host = PG_HOST\n",
    ")"
   ]
  },
  {
   "cell_type": "code",
   "execution_count": 51,
   "id": "6938cf40",
   "metadata": {},
   "outputs": [
    {
     "name": "stdout",
     "output_type": "stream",
     "text": [
      "Получаем и записываем баланс, получаем файл выписки\n",
      "Получаем и записываем выписку\n",
      "Закрываем браузер\n"
     ]
    }
   ],
   "source": [
    "# Получаем данные с Альфа-Банка\n",
    "alfa_scraper.data()"
   ]
  },
  {
   "cell_type": "code",
   "execution_count": 6,
   "id": "b285598d",
   "metadata": {},
   "outputs": [],
   "source": [
    "# Закрываем браузер\n",
    "# alfa_scraper.close_all()"
   ]
  },
  {
   "cell_type": "code",
   "execution_count": null,
   "id": "69157d45",
   "metadata": {},
   "outputs": [],
   "source": [
    "# Сохраняем скрин\n",
    "alfa_scraper.driver.save_screenshot('/share/screenshot.png')"
   ]
  },
  {
   "cell_type": "code",
   "execution_count": 7,
   "id": "17097513",
   "metadata": {},
   "outputs": [],
   "source": [
    "# Получаем данные с DWH\n",
    "df = alfa_scraper.account()\n",
    "df.head()"
   ]
  },
  {
   "cell_type": "code",
   "execution_count": 8,
   "id": "34a925b9",
   "metadata": {},
   "outputs": [],
   "source": [
    "# Расходы 2021 по категориям\n",
    "df[(df['type'].str.contains('Расход')) & (df['date'] > '2021-01-01')].groupby('category')['sum'].sum().sort_values(ascending = False) / df[(df['type'].str.contains('Расход')) & (df['date'] > '2021-01-01')]['sum'].sum()"
   ]
  },
  {
   "cell_type": "code",
   "execution_count": 9,
   "id": "3eb13cd2",
   "metadata": {},
   "outputs": [],
   "source": [
    "# Расходы 2021 по назначению \n",
    "df[(df['type'].str.contains('Расход')) & (df['date'] > '2021-01-01')].groupby('description')['sum'].sum().sort_values(ascending = False) / df[(df['type'].str.contains('Расход')) & (df['date'] > '2021-01-01')]['sum'].sum()"
   ]
  },
  {
   "cell_type": "code",
   "execution_count": 10,
   "id": "7e35c1d6",
   "metadata": {},
   "outputs": [],
   "source": [
    "# Расходы по дням\n",
    "costs_daily_df = df[(df['type'].str.contains('Расход')) & (df['date'] > '2021-01-01')].groupby('date', as_index = False)['sum'].sum()\n",
    "fig = costs_daily_df.sort_values(by = 'date').plot.line(\n",
    "    x='date'\n",
    "    ,y='sum'\n",
    "    ,title=\"Расходы по дням\"\n",
    ")\n",
    "fig.update_xaxes(title_text='День')\n",
    "fig.update_yaxes(title_text='Расходы, руб.')\n",
    "fig.show()"
   ]
  }
 ],
 "metadata": {
  "kernelspec": {
   "display_name": "Python 3",
   "language": "python",
   "name": "python3"
  },
  "language_info": {
   "codemirror_mode": {
    "name": "ipython",
    "version": 3
   },
   "file_extension": ".py",
   "mimetype": "text/x-python",
   "name": "python",
   "nbconvert_exporter": "python",
   "pygments_lexer": "ipython3",
   "version": "3.9.5"
  },
  "toc-autonumbering": true
 },
 "nbformat": 4,
 "nbformat_minor": 5
}
