{
 "cells": [
  {
   "cell_type": "code",
   "execution_count": 1,
   "metadata": {},
   "outputs": [],
   "source": [
    "# Устанавливаем/меняем текущую папку\n",
    "import os\n",
    "os.chdir('/root/jupyterlab/balance')\n",
    "\n",
    "# Для работы с SQL\n",
    "from sqlalchemy import create_engine\n",
    "# Для работы с Postgre\n",
    "import psycopg2\n",
    "\n",
    "# Импортируем модуль получения данных\n",
    "from src.TelecomScraper import TelecomScraper"
   ]
  },
  {
   "cell_type": "code",
   "execution_count": 2,
   "metadata": {},
   "outputs": [],
   "source": [
    "# Получаем переменные окружения\n",
    "PG_PASSWORD=os.environ['PG_PASSWORD']\n",
    "MTS_LOGIN=os.environ['MTS_LOGIN']\n",
    "MTS_PASSWORD=os.environ['MTS_PASSWORD']\n",
    "INETVL_LOGIN=os.environ['INETVL_LOGIN']\n",
    "INETVL_PASSWORD=os.environ['INETVL_PASSWORD']\n",
    "MEGAFON_LOGIN=os.environ['MEGAFON_LOGIN']\n",
    "MEGAFON_PASSWORD=os.environ['MEGAFON_PASSWORD']\n",
    "LOGIN_NAME=os.environ['LOGIN_NAME']\n",
    "PG_HOST = os.environ['PG_HOST']\n",
    "LOGIN_NAME = os.environ['LOGIN_NAME']"
   ]
  },
  {
   "cell_type": "code",
   "execution_count": 3,
   "metadata": {},
   "outputs": [],
   "source": [
    "# Создаем подключение к pg\n",
    "engine = create_engine(f'postgres://{LOGIN_NAME}:{PG_PASSWORD}@{PG_HOST}:5432/{LOGIN_NAME}')\n",
    "conn = psycopg2.connect(f\"host='{PG_HOST}' dbname='{LOGIN_NAME}' user='{LOGIN_NAME}' password='{PG_PASSWORD}'\")"
   ]
  },
  {
   "cell_type": "code",
   "execution_count": 4,
   "metadata": {},
   "outputs": [],
   "source": [
    "telecom_scraper = TelecomScraper(\n",
    "    mts_login=MTS_LOGIN\n",
    "    ,mts_password=MTS_PASSWORD\n",
    "    ,inetvl_login=INETVL_LOGIN\n",
    "    ,inetvl_password=INETVL_PASSWORD\n",
    "    ,megafon_login=MEGAFON_LOGIN\n",
    "    ,megafon_password=MEGAFON_PASSWORD\n",
    "    ,engine=engine\n",
    "    ,conn=conn\n",
    "    ,host=PG_HOST\n",
    "    )"
   ]
  },
  {
   "cell_type": "code",
   "execution_count": 5,
   "metadata": {},
   "outputs": [
    {
     "name": "stdout",
     "output_type": "stream",
     "text": [
      "Получаем баланс Альянс\n",
      "Получаем баланс МТС\n",
      "Получаем баланс Мегафон\n",
      "Закрываем браузер\n"
     ]
    }
   ],
   "source": [
    "# Получаем баланс Телеком\n",
    "telecom_scraper.data()"
   ]
  }
 ],
 "metadata": {
  "kernelspec": {
   "display_name": "Python 3",
   "language": "python",
   "name": "python3"
  },
  "language_info": {
   "codemirror_mode": {
    "name": "ipython",
    "version": 3
   },
   "file_extension": ".py",
   "mimetype": "text/x-python",
   "name": "python",
   "nbconvert_exporter": "python",
   "pygments_lexer": "ipython3",
   "version": "3.9.2"
  },
  "widgets": {
   "application/vnd.jupyter.widget-state+json": {
    "state": {},
    "version_major": 2,
    "version_minor": 0
   }
  }
 },
 "nbformat": 4,
 "nbformat_minor": 4
}
